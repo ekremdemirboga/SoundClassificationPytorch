{
 "cells": [
  {
   "cell_type": "code",
   "execution_count": 12,
   "id": "93876427",
   "metadata": {},
   "outputs": [],
   "source": [
    "import torch\n",
    "from train import FeedForwardNet, donwload_mnist_dataset"
   ]
  },
  {
   "cell_type": "code",
   "execution_count": 19,
   "id": "ac9b50fd",
   "metadata": {},
   "outputs": [],
   "source": [
    "class_mapping = [\n",
    "    \"0\",\n",
    "    \"1\",\n",
    "    \"2\",\n",
    "    \"3\",\n",
    "    \"4\",\n",
    "    \"5\",\n",
    "    \"6\",\n",
    "    \"7\",\n",
    "    \"8\",\n",
    "    \"9\"\n",
    "]"
   ]
  },
  {
   "cell_type": "code",
   "execution_count": 20,
   "id": "491c3de6",
   "metadata": {},
   "outputs": [],
   "source": [
    "def predict(model, input, target, class_mapping):\n",
    "    model.eval()\n",
    "    with torch.no_grad():\n",
    "        predictions = model(input)\n",
    "        # Tensor (noOfSamples,noOfClasses)\n",
    "        predicted_index = predictions[0].argmax()\n",
    "        predicted = class_mapping[predicted_index]\n",
    "        expected = class_mapping[target]\n",
    "    return predicted,expected"
   ]
  },
  {
   "cell_type": "code",
   "execution_count": 21,
   "id": "dd9bc071",
   "metadata": {},
   "outputs": [
    {
     "data": {
      "text/plain": [
       "<All keys matched successfully>"
      ]
     },
     "execution_count": 21,
     "metadata": {},
     "output_type": "execute_result"
    }
   ],
   "source": [
    "## load the model\n",
    "feed_forward_net = FeedForwardNet()\n",
    "state_dict = torch.load(\"feedforwardnet.pth\")\n",
    "feed_forward_net.load_state_dict(state_dict)"
   ]
  },
  {
   "cell_type": "code",
   "execution_count": 22,
   "id": "cb2df218",
   "metadata": {},
   "outputs": [],
   "source": [
    "##load MNIST dataset\n",
    "_, validation_data = donwload_mnist_dataset()"
   ]
  },
  {
   "cell_type": "code",
   "execution_count": 23,
   "id": "624ec477",
   "metadata": {},
   "outputs": [],
   "source": [
    "##get a se sample from the validation data for inference\n",
    "input, target = validation_data[0][0],validation_data[0][1]"
   ]
  },
  {
   "cell_type": "code",
   "execution_count": 24,
   "id": "a483cf65",
   "metadata": {},
   "outputs": [
    {
     "name": "stdout",
     "output_type": "stream",
     "text": [
      "Predicted: 7 , Expected: 7\n"
     ]
    }
   ],
   "source": [
    "##make inference\n",
    "predicted, expected = predict(feed_forward_net,input,target,class_mapping)\n",
    "print(f\"Predicted: {predicted} , Expected: {expected}\")"
   ]
  },
  {
   "cell_type": "code",
   "execution_count": null,
   "id": "7f0f22f7",
   "metadata": {},
   "outputs": [],
   "source": []
  }
 ],
 "metadata": {
  "kernelspec": {
   "display_name": "Python 3 (ipykernel)",
   "language": "python",
   "name": "python3"
  },
  "language_info": {
   "codemirror_mode": {
    "name": "ipython",
    "version": 3
   },
   "file_extension": ".py",
   "mimetype": "text/x-python",
   "name": "python",
   "nbconvert_exporter": "python",
   "pygments_lexer": "ipython3",
   "version": "3.9.12"
  }
 },
 "nbformat": 4,
 "nbformat_minor": 5
}
