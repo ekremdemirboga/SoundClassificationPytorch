{
 "cells": [
  {
   "cell_type": "code",
   "execution_count": 12,
   "id": "c120b4f1",
   "metadata": {},
   "outputs": [],
   "source": [
    "import torch\n",
    "from torch import nn\n",
    "from torch.utils.data import DataLoader\n",
    "from torchvision import datasets\n",
    "from torchvision.transforms import ToTensor\n",
    "BATCH_SIZE = 128\n",
    "EPOCHS = 10\n",
    "LEARNING_RATE = 0.001"
   ]
  },
  {
   "cell_type": "code",
   "execution_count": 13,
   "id": "a668521b",
   "metadata": {},
   "outputs": [],
   "source": [
    "class FeedForwardNet(nn.Module):\n",
    "    \n",
    "    def __init__(self):\n",
    "        super().__init__()\n",
    "        self.flatten = nn.Flatten()\n",
    "        self.dense_layers = nn.Sequential(\n",
    "            nn.Linear(28*28, 256),\n",
    "            nn.ReLU(),\n",
    "            nn.Linear(256,10)\n",
    "        )\n",
    "        self.softmax = nn.Softmax(dim=1)\n",
    "    \n",
    "    def forward(self, input_data):\n",
    "        flattened_data = self.flatten(input_data)\n",
    "        logits = self.dense_layers(flattened_data)\n",
    "        predictions = self.softmax(logits)\n",
    "        return predictions\n",
    "        "
   ]
  },
  {
   "cell_type": "code",
   "execution_count": 14,
   "id": "10a88833",
   "metadata": {},
   "outputs": [],
   "source": [
    "def donwload_mnist_dataset():\n",
    "    train_data = datasets.MNIST(\n",
    "        root = \"data\",\n",
    "        download = True,\n",
    "        train = True,\n",
    "        transform=ToTensor()\n",
    "    )\n",
    "    validation_data = datasets.MNIST(\n",
    "        root = \"data\",\n",
    "        download = True,\n",
    "        train = False,\n",
    "        transform=ToTensor()\n",
    "    )\n",
    "    return train_data, validation_data\n"
   ]
  },
  {
   "cell_type": "code",
   "execution_count": 15,
   "id": "a4472103",
   "metadata": {
    "scrolled": true
   },
   "outputs": [
    {
     "name": "stdout",
     "output_type": "stream",
     "text": [
      "MNIST dataset downloaded\n"
     ]
    }
   ],
   "source": [
    "#download dataset\n",
    "train_data, _ = donwload_mnist_dataset()\n",
    "print(\"MNIST dataset downloaded\")"
   ]
  },
  {
   "cell_type": "code",
   "execution_count": 16,
   "id": "a8d3b98a",
   "metadata": {},
   "outputs": [],
   "source": [
    "def train_one_epoch(model,data_loader,loss_fn,optimizer, device):\n",
    "    for inputs,targets in data_loader:\n",
    "        inputs, targets = inputs.to(device), targets.to(device)\n",
    "        \n",
    "        #calculate loss\n",
    "        predictions = model(inputs)\n",
    "        loss = loss_fn(predictions,targets)\n",
    "        \n",
    "        #backpropagate loss and update weights\n",
    "        optimizer.zero_grad()\n",
    "        loss.backward()\n",
    "        optimizer.step()\n",
    "    print(f\"loss: {loss.item()}\")\n",
    "    \n",
    "def train(model,data_loader,loss_fn,optimizer, device,epochs):\n",
    "    for i in range(epochs):\n",
    "        print(f\"Epoch {i+1}\")\n",
    "        train_one_epoch(model,data_loader,loss_fn,optimizer, device)\n",
    "        print(\"------------------\")\n",
    "    print(\"Training is done.train_data_loader\")\n",
    "    "
   ]
  },
  {
   "cell_type": "code",
   "execution_count": 17,
   "id": "f36bdea8",
   "metadata": {},
   "outputs": [],
   "source": [
    "# create dataloader for dataset\n",
    "train_data_loader = DataLoader(train_data,batch_size=BATCH_SIZE)"
   ]
  },
  {
   "cell_type": "code",
   "execution_count": 18,
   "id": "3d7f3a1b",
   "metadata": {},
   "outputs": [
    {
     "name": "stdout",
     "output_type": "stream",
     "text": [
      "using cpu device\n"
     ]
    }
   ],
   "source": [
    "#build model\n",
    "if torch.cuda.is_available():\n",
    "    device = \"cuda\"\n",
    "else:\n",
    "    device = \"cpu\"\n",
    "print(f\"using {device} device\")\n",
    "feed_forward_net = FeedForwardNet().to(device)"
   ]
  },
  {
   "cell_type": "code",
   "execution_count": 19,
   "id": "fe377754",
   "metadata": {},
   "outputs": [
    {
     "name": "stdout",
     "output_type": "stream",
     "text": [
      "Epoch 1\n",
      "loss: 1.5115442276000977\n",
      "------------------\n",
      "Epoch 2\n",
      "loss: 1.4973483085632324\n",
      "------------------\n",
      "Epoch 3\n",
      "loss: 1.4836505651474\n",
      "------------------\n",
      "Epoch 4\n",
      "loss: 1.480048656463623\n",
      "------------------\n",
      "Epoch 5\n",
      "loss: 1.4768809080123901\n",
      "------------------\n",
      "Epoch 6\n",
      "loss: 1.4745985269546509\n",
      "------------------\n",
      "Epoch 7\n",
      "loss: 1.472458004951477\n",
      "------------------\n",
      "Epoch 8\n",
      "loss: 1.4732789993286133\n",
      "------------------\n",
      "Epoch 9\n",
      "loss: 1.472510814666748\n",
      "------------------\n",
      "Epoch 10\n",
      "loss: 1.4732288122177124\n",
      "------------------\n",
      "Training is done.train_data_loader\n",
      "model trained and saved\n"
     ]
    }
   ],
   "source": [
    "## Lost function and optimizer\n",
    "loss_fn = nn.CrossEntropyLoss()\n",
    "optimizer = torch.optim.Adam(feed_forward_net.parameters(),lr = LEARNING_RATE)\n",
    "\n",
    "##Train Model\n",
    "train(feed_forward_net,train_data_loader, loss_fn, optimizer, device, EPOCHS)\n",
    "\n",
    "torch.save(feed_forward_net.state_dict(),\"feedforwardnet.pth\")\n",
    "print(\"model trained and saved\")"
   ]
  },
  {
   "cell_type": "code",
   "execution_count": null,
   "id": "a850d4c5",
   "metadata": {},
   "outputs": [],
   "source": []
  }
 ],
 "metadata": {
  "kernelspec": {
   "display_name": "Python 3 (ipykernel)",
   "language": "python",
   "name": "python3"
  },
  "language_info": {
   "codemirror_mode": {
    "name": "ipython",
    "version": 3
   },
   "file_extension": ".py",
   "mimetype": "text/x-python",
   "name": "python",
   "nbconvert_exporter": "python",
   "pygments_lexer": "ipython3",
   "version": "3.9.12"
  }
 },
 "nbformat": 4,
 "nbformat_minor": 5
}
