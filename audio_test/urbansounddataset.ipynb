{
 "cells": [
  {
   "cell_type": "code",
   "execution_count": 19,
   "id": "9794b029",
   "metadata": {},
   "outputs": [],
   "source": [
    "from torch.utils.data import Dataset\n",
    "import torch\n",
    "import pandas as pd\n",
    "import torchaudio\n",
    "import os"
   ]
  },
  {
   "cell_type": "code",
   "execution_count": 38,
   "id": "dbf74c0e",
   "metadata": {},
   "outputs": [],
   "source": [
    "class UrbanSoundDataset(Dataset):\n",
    "    \n",
    "    def __init__(self,\n",
    "                 annotation_file, \n",
    "                 audio_dir, \n",
    "                 transformation,\n",
    "                 target_sample_rate,\n",
    "                 num_samples,\n",
    "                 device):\n",
    "        self.annotations = pd.read_csv(annotation_file)\n",
    "        self.audio_dir = audio_dir\n",
    "        self.device = device\n",
    "        self.transformation = transformation.to(self.device)\n",
    "        self.target_sample_rate = target_sample_rate\n",
    "        self.num_samples = num_samples\n",
    "\n",
    "        \n",
    "    def __len__(self):\n",
    "        return len(self.annotations)\n",
    "    \n",
    "    def __getitem__(self, index):\n",
    "        audio_sample_path = self._get_audio_sample_path(index)\n",
    "        label = self._get_audio_sample_label(index)\n",
    "        signal, sr = torchaudio.load(audio_sample_path)\n",
    "        signal = signal.to(self.device)\n",
    "        signal = self._resample_if_necessary(signal,sr)\n",
    "        signal = self._mix_down_if_necessary(signal)\n",
    "        signal = self._right_pad_if_necessary(signal) ## if the number of samples is less then we want\n",
    "        signal = self._cut_if_necessary(signal) ## if the number of samples is more then we want\n",
    "        signal = self.transformation(signal)\n",
    "        return signal, label\n",
    "        ## signal -> Tensor(numofchannels=1, numsamples=sum_samples)\n",
    "    def _cut_if_necessary(self, signal):\n",
    "        if signal.shape[1]>self.num_samples:\n",
    "            signal = signal[:, :self.num_samples]\n",
    "        return signal\n",
    "    def _right_pad_if_necessary(self, signal):\n",
    "        length_signal = signal.shape[1]\n",
    "        if length_signal < self.num_samples:\n",
    "            num_missing_samples = self.num_samples-length_signal\n",
    "            last_dim_padding = (0, num_missing_samples) ##0 to left, num_missing_samples to right\n",
    "            signal = torch.nn.functional.pad(signal, last_dim_padding)\n",
    "        return signal\n",
    "    \n",
    "    def _resample_if_necessary(self, signal, sr): \n",
    "        if sr != self.target_sample_rate:\n",
    "            resampler = torchaudio.transforms.Resample(sr, self.target_sample_rate)\n",
    "            signal = resampler(signal)\n",
    "        return signal\n",
    "    \n",
    "    def _mix_down_if_necessary(self, signal):\n",
    "        if signal.shape[0]>1:\n",
    "            signal = torch.mean(signal, dim=0, keepdims=True)\n",
    "        return signal\n",
    "    \n",
    "    def _get_audio_sample_path(self, index):\n",
    "        fold = f\"fold{self.annotations.iloc[index,5]}\"\n",
    "        path = os.path.join(self.audio_dir,fold,self.annotations.iloc[index,0])\n",
    "        return path\n",
    "    \n",
    "    def _get_audio_sample_label(self, index):\n",
    "        return self.annotations.iloc[index,6]\n",
    "    \n",
    "    ##a_list[1] -> a_list.__getitem__(1)"
   ]
  },
  {
   "cell_type": "code",
   "execution_count": 39,
   "id": "26ee3597",
   "metadata": {},
   "outputs": [
    {
     "name": "stdout",
     "output_type": "stream",
     "text": [
      "using device :cpu\n",
      "there are 8732 samples in the dataset\n"
     ]
    }
   ],
   "source": [
    "prefix = \"C:/Users/ekrem/Desktop/makamFinder/pytorch_test/audio_test/Data/UrbanSound8K/\"\n",
    "ANNOTATIONS_FILE = prefix + \"metadata/UrbanSound8K.csv\"\n",
    "AUDIO_DIR = prefix + \"audio\"\n",
    "SAMPLE_RATE = 22050\n",
    "NUM_SAMPLES = 22050 ## it means one seconds of audio\n",
    "\n",
    "if torch.cuda.is_available():\n",
    "    device =\"cuda\"\n",
    "else:\n",
    "    device =\"cpu\"\n",
    "print(\"using device :\" + str(device))\n",
    "\n",
    "mel_spectogram = torchaudio.transforms.MelSpectrogram(\n",
    "    sample_rate=SAMPLE_RATE,\n",
    "    n_fft=1024,\n",
    "    hop_length=512,\n",
    "    n_mels=64\n",
    ")\n",
    "\n",
    "usd = UrbanSoundDataset (ANNOTATIONS_FILE, AUDIO_DIR, mel_spectogram,\n",
    "                        SAMPLE_RATE,NUM_SAMPLES,device)\n",
    "\n",
    "print(f\"there are {len(usd)} samples in the dataset\")\n",
    "\n",
    "signal, label = usd[1]\n"
   ]
  },
  {
   "cell_type": "code",
   "execution_count": null,
   "id": "c58503e0",
   "metadata": {},
   "outputs": [],
   "source": []
  }
 ],
 "metadata": {
  "kernelspec": {
   "display_name": "Python 3 (ipykernel)",
   "language": "python",
   "name": "python3"
  },
  "language_info": {
   "codemirror_mode": {
    "name": "ipython",
    "version": 3
   },
   "file_extension": ".py",
   "mimetype": "text/x-python",
   "name": "python",
   "nbconvert_exporter": "python",
   "pygments_lexer": "ipython3",
   "version": "3.9.12"
  }
 },
 "nbformat": 4,
 "nbformat_minor": 5
}
